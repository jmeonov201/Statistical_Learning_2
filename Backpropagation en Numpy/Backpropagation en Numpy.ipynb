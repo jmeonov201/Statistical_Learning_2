{
 "cells": [
  {
   "cell_type": "markdown",
   "metadata": {},
   "source": [
    "# JOHNATAN MEOÑO"
   ]
  },
  {
   "cell_type": "code",
   "execution_count": 1,
   "metadata": {},
   "outputs": [],
   "source": [
    "import numpy as np"
   ]
  },
  {
   "cell_type": "code",
   "execution_count": 2,
   "metadata": {},
   "outputs": [],
   "source": [
    "import matplotlib.pyplot as plt"
   ]
  },
  {
   "cell_type": "code",
   "execution_count": 3,
   "metadata": {},
   "outputs": [],
   "source": [
    "%matplotlib inline"
   ]
  },
  {
   "cell_type": "code",
   "execution_count": 4,
   "metadata": {},
   "outputs": [],
   "source": [
    "features = np.array([[0,0],\n",
    "                     [0,1],\n",
    "                     [1,0],\n",
    "                     [1,1]])"
   ]
  },
  {
   "cell_type": "code",
   "execution_count": 5,
   "metadata": {},
   "outputs": [
    {
     "data": {
      "text/plain": [
       "array([[0, 0],\n",
       "       [0, 1],\n",
       "       [1, 0],\n",
       "       [1, 1]])"
      ]
     },
     "execution_count": 5,
     "metadata": {},
     "output_type": "execute_result"
    }
   ],
   "source": [
    "features"
   ]
  },
  {
   "cell_type": "code",
   "execution_count": 6,
   "metadata": {},
   "outputs": [],
   "source": [
    "etiquetas = np.array([[0],\n",
    "                      [1],\n",
    "                      [1],\n",
    "                      [0]])"
   ]
  },
  {
   "cell_type": "code",
   "execution_count": 7,
   "metadata": {},
   "outputs": [
    {
     "data": {
      "text/plain": [
       "array([[1.],\n",
       "       [1.],\n",
       "       [1.],\n",
       "       [1.]])"
      ]
     },
     "execution_count": 7,
     "metadata": {},
     "output_type": "execute_result"
    }
   ],
   "source": [
    "u_1 = np.ones((4,1))\n",
    "u_1"
   ]
  },
  {
   "cell_type": "code",
   "execution_count": 8,
   "metadata": {},
   "outputs": [],
   "source": [
    "mu, sigma = 0, 0.1 # mean and standard deviation"
   ]
  },
  {
   "cell_type": "code",
   "execution_count": 9,
   "metadata": {},
   "outputs": [
    {
     "data": {
      "text/plain": [
       "array([[-0.01708468,  0.15703812],\n",
       "       [ 0.05031376,  0.10149926]])"
      ]
     },
     "execution_count": 9,
     "metadata": {},
     "output_type": "execute_result"
    }
   ],
   "source": [
    "w_1 = np.random.normal(mu, sigma,(2,2))\n",
    "w_1"
   ]
  },
  {
   "cell_type": "code",
   "execution_count": 10,
   "metadata": {},
   "outputs": [
    {
     "data": {
      "text/plain": [
       "array([[ 0.08044622, -0.12444066]])"
      ]
     },
     "execution_count": 10,
     "metadata": {},
     "output_type": "execute_result"
    }
   ],
   "source": [
    "b_1 = np.random.normal(mu, sigma, (1,2))\n",
    "b_1"
   ]
  },
  {
   "cell_type": "markdown",
   "metadata": {},
   "source": [
    "# ////////////////////////"
   ]
  },
  {
   "cell_type": "code",
   "execution_count": 11,
   "metadata": {},
   "outputs": [
    {
     "data": {
      "text/plain": [
       "array([[1.],\n",
       "       [1.],\n",
       "       [1.],\n",
       "       [1.]])"
      ]
     },
     "execution_count": 11,
     "metadata": {},
     "output_type": "execute_result"
    }
   ],
   "source": [
    "u_2 = np.ones((4,1))\n",
    "u_2"
   ]
  },
  {
   "cell_type": "code",
   "execution_count": 12,
   "metadata": {},
   "outputs": [
    {
     "data": {
      "text/plain": [
       "array([[-0.13487116,  0.09023639],\n",
       "       [-0.00832797, -0.01518753]])"
      ]
     },
     "execution_count": 12,
     "metadata": {},
     "output_type": "execute_result"
    }
   ],
   "source": [
    "w_2 = np.random.normal(mu, sigma, (2,2))\n",
    "w_2"
   ]
  },
  {
   "cell_type": "code",
   "execution_count": 13,
   "metadata": {},
   "outputs": [
    {
     "data": {
      "text/plain": [
       "array([[-0.0043017 , -0.11956453]])"
      ]
     },
     "execution_count": 13,
     "metadata": {},
     "output_type": "execute_result"
    }
   ],
   "source": [
    "b_2 = np.random.normal(mu, sigma, (1,2))\n",
    "b_2"
   ]
  },
  {
   "cell_type": "markdown",
   "metadata": {},
   "source": [
    "# ////////////////////////"
   ]
  },
  {
   "cell_type": "code",
   "execution_count": 14,
   "metadata": {},
   "outputs": [
    {
     "data": {
      "text/plain": [
       "array([[1.],\n",
       "       [1.],\n",
       "       [1.],\n",
       "       [1.]])"
      ]
     },
     "execution_count": 14,
     "metadata": {},
     "output_type": "execute_result"
    }
   ],
   "source": [
    "u_f = np.ones((4,1))\n",
    "u_f"
   ]
  },
  {
   "cell_type": "code",
   "execution_count": 15,
   "metadata": {},
   "outputs": [
    {
     "data": {
      "text/plain": [
       "array([[ 0.25936657],\n",
       "       [-0.00675252]])"
      ]
     },
     "execution_count": 15,
     "metadata": {},
     "output_type": "execute_result"
    }
   ],
   "source": [
    "w_f = np.random.normal(mu, sigma, (2,1))\n",
    "w_f"
   ]
  },
  {
   "cell_type": "code",
   "execution_count": 16,
   "metadata": {},
   "outputs": [
    {
     "data": {
      "text/plain": [
       "array([[0.16386763]])"
      ]
     },
     "execution_count": 16,
     "metadata": {},
     "output_type": "execute_result"
    }
   ],
   "source": [
    "b_f = np.random.normal(mu, sigma, (1,1))\n",
    "b_f"
   ]
  },
  {
   "cell_type": "code",
   "execution_count": 17,
   "metadata": {},
   "outputs": [],
   "source": [
    "def relu(x):\n",
    "    activacion = np.maximum(x,0)\n",
    "    return activacion "
   ]
  },
  {
   "cell_type": "code",
   "execution_count": 18,
   "metadata": {},
   "outputs": [],
   "source": [
    "def relu_deri(x):\n",
    "    derivada = (x >=0).astype(float)\n",
    "    return derivada "
   ]
  },
  {
   "cell_type": "code",
   "execution_count": 19,
   "metadata": {},
   "outputs": [],
   "source": [
    "def red(equix,y,p_1,p_2,p_f,ba_1,ba_2,ba_f,u1,u2,uf,lr=0.1,epochs=20,imprimir=2): #epochs=20,lr=1\n",
    "    \n",
    "    for i in range(epochs):\n",
    "        ## forward propagation\n",
    "        ## capa intermedia 1\n",
    "        kpa_inter_1 = np.matmul(equix,p_1) + ba_1\n",
    "        kpa_inter_1_act = relu(kpa_inter_1)\n",
    "    \n",
    "        ## capa intermedia 2\n",
    "        kpa_inter_2 = np.matmul(kpa_inter_1_act,p_2) + ba_2\n",
    "        kpa_inter_2_act = relu(kpa_inter_2)\n",
    "    \n",
    "        ## capa final sin activacion\n",
    "        kpa_final = np.matmul(kpa_inter_2_act,p_f) + ba_f\n",
    "    \n",
    "        ## backward propagation\n",
    "        ## propagacion del error\n",
    "        \n",
    "        ## del final a inicio\n",
    "        ## calculo del error en la capa final\n",
    "        ## derivada del costo respecto de la activacion \n",
    "        ## por la derivada de la ativacion lo cual da como resultado\n",
    "        ## ver las hojas a mano\n",
    "        delta_f = y - kpa_final \n",
    "    \n",
    "        ## error en la capa intermedia 2\n",
    "        delta_kpa_inter_2 = np.matmul(p_f,delta_f.T).T * relu_deri(kpa_inter_2)\n",
    "     \n",
    "        ## error en la capa inter 1\n",
    "        delta_kpa_inter_1 = np.matmul(p_2,delta_kpa_inter_2.T).T * relu_deri(kpa_inter_1)\n",
    "    \n",
    "        ## Gradientes\n",
    "        ## del inicio al final        \n",
    "        ## gradiente capa intermedia 1\n",
    "        G_kpa_inter_1 = np.mean(np.matmul(equix,delta_kpa_inter_1.T), axis = 0).reshape(2,2)\n",
    "        \n",
    "        ## gradiente capa intermedia 2\n",
    "        G_kpa_inter_2 = np.mean(np.matmul(kpa_inter_1_act,delta_kpa_inter_2.T), axis = 0).reshape(2,2)\n",
    "        \n",
    "        ## gradiente capa final\n",
    "        G_kpa_f = np.matmul(kpa_inter_2_act.T,delta_f)\n",
    "        \n",
    "        ## bias\n",
    "        ## del inicio al final\n",
    "        ## bias capa intermida 1\n",
    "        b_kpa_inter_1 = np.matmul(u1.T,delta_kpa_inter_1)\n",
    "        \n",
    "        ## bias capa intermida 1\n",
    "        b_kpa_inter_2 = np.matmul(u2.T,delta_kpa_inter_2)\n",
    "        \n",
    "        ## bias capa final\n",
    "        b_kpa_f = np.matmul(uf.T,delta_f)       \n",
    "          \n",
    "        ## pesos actualizados\n",
    "        p_f = p_f - (lr * G_kpa_f)\n",
    "        p_2 = p_2 - (lr * G_kpa_inter_2)\n",
    "        p_1 = p_1 - (lr * G_kpa_inter_1)\n",
    "        \n",
    "        ## bias actualizados\n",
    "        ba_f = ba_f - (lr * b_kpa_f)\n",
    "        ba_2 = ba_2 - (lr * b_kpa_inter_2)\n",
    "        ba_1 = ba_1 - (lr * b_kpa_inter_1)\n",
    "        \n",
    "        ## error MSE\n",
    "        error = (np.mean(np.power(y-kpa_final,2)))*0.5\n",
    "        \n",
    "        if i % imprimir == 0: \n",
    "            print(\"Error\", i, error)\n",
    "       \n",
    "    ## Gráfica \n",
    "    fig  = plt.figure(figsize=(10,5))\n",
    "    ax1 = fig.add_subplot(1,1,1)\n",
    "    ax1.scatter(kpa_inter_2_act[:,0],kpa_inter_2_act[:,1])\n",
    "    plt.show()\n",
    "    \n",
    "    return kpa_inter_2_act\n",
    "\n",
    "        #print(ba_1)\n",
    "        #print()\n",
    "        #print(p_2)"
   ]
  },
  {
   "cell_type": "code",
   "execution_count": 50,
   "metadata": {},
   "outputs": [
    {
     "name": "stdout",
     "output_type": "stream",
     "text": [
      "Error 0 0.28711021244823265\n",
      "Error 1 0.2871115186148513\n",
      "Error 2 0.28711282479203637\n",
      "Error 3 0.2871141309797878\n",
      "Error 4 0.2871154371781057\n",
      "Error 5 0.28711674338699045\n",
      "Error 6 0.2871180496064418\n",
      "Error 7 0.28711935583646014\n",
      "Error 8 0.2871206620770451\n",
      "Error 9 0.2871219683281973\n",
      "Error 10 0.2871232745899166\n",
      "Error 11 0.2871245808622029\n",
      "Error 12 0.2871258871450565\n",
      "Error 13 0.28712719343847737\n",
      "Error 14 0.2871284997424658\n",
      "Error 15 0.28712980605702165\n",
      "Error 16 0.28713111238214517\n",
      "Error 17 0.28713241871783635\n",
      "Error 18 0.28713372506409524\n",
      "Error 19 0.2871350314209219\n"
     ]
    },
    {
     "data": {
      "image/png": "[encoded data removed]",
      "text/plain": [
       "<Figure size 720x360 with 1 Axes>"
      ]
     },
     "metadata": {},
     "output_type": "display_data"
    },
    {
     "data": {
      "text/plain": [
       "array([[0.        , 0.05850943],\n",
       "       [0.        , 0.05850943],\n",
       "       [0.        , 0.05850943],\n",
       "       [0.        , 0.05850943]])"
      ]
     },
     "execution_count": 50,
     "metadata": {},
     "output_type": "execute_result"
    }
   ],
   "source": [
    "red(features,etiquetas,np.random.normal(mu, sigma,(2,2)),np.random.normal(mu, sigma,(2,2)),np.random.normal(mu, sigma,(2,1)),np.random.normal(mu, sigma,(1,2)),np.random.normal(mu, sigma,(1,2)),np.random.normal(mu, sigma,(1,1)),u_1,u_2,u_f,0.000001,20,1)"
   ]
  },
  {
   "cell_type": "code",
   "execution_count": 51,
   "metadata": {},
   "outputs": [
    {
     "name": "stdout",
     "output_type": "stream",
     "text": [
      "Error 0 0.19063587239451926\n",
      "Error 100 0.1906897280329645\n",
      "Error 200 0.19074362749142576\n",
      "Error 300 0.19079757080521634\n",
      "Error 400 0.19085155800967757\n",
      "Error 500 0.1909055891401789\n",
      "Error 600 0.19095966423211827\n",
      "Error 700 0.19101378332092175\n",
      "Error 800 0.19106794644204358\n",
      "Error 900 0.1911221536309665\n"
     ]
    },
    {
     "data": {
      "image/png": "[encoded data removed]",
      "text/plain": [
       "<Figure size 720x360 with 1 Axes>"
      ]
     },
     "metadata": {},
     "output_type": "display_data"
    },
    {
     "data": {
      "text/plain": [
       "array([[0.        , 0.11997259],\n",
       "       [0.        , 0.12171755],\n",
       "       [0.        , 0.13468289],\n",
       "       [0.        , 0.13652659]])"
      ]
     },
     "execution_count": 51,
     "metadata": {},
     "output_type": "execute_result"
    }
   ],
   "source": [
    "red(features,etiquetas,np.random.normal(mu, sigma,(2,2)),np.random.normal(mu, sigma,(2,2)),np.random.normal(mu, sigma,(2,1)),np.random.normal(mu, sigma,(1,2)),np.random.normal(mu, sigma,(1,2)),np.random.normal(mu, sigma,(1,1)),u_1,u_2,u_f,0.000001,1000,100)"
   ]
  },
  {
   "cell_type": "code",
   "execution_count": 52,
   "metadata": {},
   "outputs": [
    {
     "name": "stdout",
     "output_type": "stream",
     "text": [
      "Error 0 0.23081154090780914\n",
      "Error 100 0.23089949397325307\n",
      "Error 200 0.2309875212781346\n",
      "Error 300 0.23107562288700312\n",
      "Error 400 0.23116379886446722\n",
      "Error 500 0.23125204927519488\n",
      "Error 600 0.23134037418391354\n",
      "Error 700 0.23142877365541015\n",
      "Error 800 0.23151724775453122\n",
      "Error 900 0.23160579654618293\n"
     ]
    },
    {
     "data": {
      "image/png": "[encoded data removed]",
      "text/plain": [
       "<Figure size 720x360 with 1 Axes>"
      ]
     },
     "metadata": {},
     "output_type": "display_data"
    },
    {
     "data": {
      "text/plain": [
       "array([[0.15890459, 0.        ],\n",
       "       [0.15268696, 0.        ],\n",
       "       [0.14778817, 0.        ],\n",
       "       [0.1475247 , 0.        ]])"
      ]
     },
     "execution_count": 52,
     "metadata": {},
     "output_type": "execute_result"
    }
   ],
   "source": [
    "red(features,etiquetas,np.random.normal(mu, sigma,(2,2)),np.random.normal(mu, sigma,(2,2)),np.random.normal(mu, sigma,(2,1)),np.random.normal(mu, sigma,(1,2)),np.random.normal(mu, sigma,(1,2)),np.random.normal(mu, sigma,(1,1)),u_1,u_2,u_f,0.000001,1000,100)"
   ]
  },
  {
   "cell_type": "code",
   "execution_count": 53,
   "metadata": {},
   "outputs": [
    {
     "name": "stdout",
     "output_type": "stream",
     "text": [
      "Error 0 0.2094920941798455\n",
      "Error 100 0.20956316147867288\n",
      "Error 200 0.20963428873189374\n",
      "Error 300 0.2097054759907208\n",
      "Error 400 0.2097767233064118\n",
      "Error 500 0.20984803073026984\n",
      "Error 600 0.20991939831364326\n",
      "Error 700 0.2099908261079257\n",
      "Error 800 0.2100623141645561\n",
      "Error 900 0.21013386253501884\n"
     ]
    },
    {
     "data": {
      "image/png": "[encoded data removed]",
      "text/plain": [
       "<Figure size 720x360 with 1 Axes>"
      ]
     },
     "metadata": {},
     "output_type": "display_data"
    },
    {
     "data": {
      "text/plain": [
       "array([[0.16374089, 0.15209043],\n",
       "       [0.17745804, 0.11185082],\n",
       "       [0.15861964, 0.16496693],\n",
       "       [0.16774921, 0.13922552]])"
      ]
     },
     "execution_count": 53,
     "metadata": {},
     "output_type": "execute_result"
    }
   ],
   "source": [
    "red(features,etiquetas,np.random.normal(mu, sigma,(2,2)),np.random.normal(mu, sigma,(2,2)),np.random.normal(mu, sigma,(2,1)),np.random.normal(mu, sigma,(1,2)),np.random.normal(mu, sigma,(1,2)),np.random.normal(mu, sigma,(1,1)),u_1,u_2,u_f,0.000001,1000,100)"
   ]
  },
  {
   "cell_type": "code",
   "execution_count": 54,
   "metadata": {},
   "outputs": [
    {
     "name": "stdout",
     "output_type": "stream",
     "text": [
      "Error 0 0.31746696718604683\n",
      "Error 100 0.3176210020574596\n",
      "Error 200 0.3177751602058271\n",
      "Error 300 0.3179294417298101\n",
      "Error 400 0.3180838467281486\n",
      "Error 500 0.31823837529966137\n",
      "Error 600 0.31839302754324617\n",
      "Error 700 0.31854780355788015\n",
      "Error 800 0.3187027034426194\n",
      "Error 900 0.31885772729659967\n"
     ]
    },
    {
     "data": {
      "image/png": "[encoded data removed]",
      "text/plain": [
       "<Figure size 720x360 with 1 Axes>"
      ]
     },
     "metadata": {},
     "output_type": "display_data"
    },
    {
     "data": {
      "text/plain": [
       "array([[0., 0.],\n",
       "       [0., 0.],\n",
       "       [0., 0.],\n",
       "       [0., 0.]])"
      ]
     },
     "execution_count": 54,
     "metadata": {},
     "output_type": "execute_result"
    }
   ],
   "source": [
    "red(features,etiquetas,np.random.normal(mu, sigma,(2,2)),np.random.normal(mu, sigma,(2,2)),np.random.normal(mu, sigma,(2,1)),np.random.normal(mu, sigma,(1,2)),np.random.normal(mu, sigma,(1,2)),np.random.normal(mu, sigma,(1,1)),u_1,u_2,u_f,0.000001,1000,100)"
   ]
  },
  {
   "cell_type": "code",
   "execution_count": 55,
   "metadata": {},
   "outputs": [
    {
     "name": "stdout",
     "output_type": "stream",
     "text": [
      "Error 0 0.3498611096782689\n",
      "Error 100 0.35004109720752913\n",
      "Error 200 0.3502212287949123\n",
      "Error 300 0.35040150455572117\n",
      "Error 400 0.35058192460535087\n",
      "Error 500 0.35076248905928825\n",
      "Error 600 0.35094319803311336\n",
      "Error 700 0.35112405164249827\n",
      "Error 800 0.3513050500032082\n",
      "Error 900 0.3514861932311003\n"
     ]
    },
    {
     "data": {
      "image/png": "[encoded data removed]",
      "text/plain": [
       "<Figure size 720x360 with 1 Axes>"
      ]
     },
     "metadata": {},
     "output_type": "display_data"
    },
    {
     "data": {
      "text/plain": [
       "array([[0.        , 0.        ],\n",
       "       [0.00121729, 0.        ],\n",
       "       [0.00424075, 0.        ],\n",
       "       [0.01116932, 0.        ]])"
      ]
     },
     "execution_count": 55,
     "metadata": {},
     "output_type": "execute_result"
    }
   ],
   "source": [
    "red(features,etiquetas,np.random.normal(mu, sigma,(2,2)),np.random.normal(mu, sigma,(2,2)),np.random.normal(mu, sigma,(2,1)),np.random.normal(mu, sigma,(1,2)),np.random.normal(mu, sigma,(1,2)),np.random.normal(mu, sigma,(1,1)),u_1,u_2,u_f,0.000001,1000,100)"
   ]
  },
  {
   "cell_type": "markdown",
   "metadata": {},
   "source": [
    "# Coclusiones"
   ]
  },
  {
   "cell_type": "markdown",
   "metadata": {},
   "source": [
    "# En general podemos decir que es importante la correcta inicializacion de los parametros entrenables ya que de esto dependera una buena convergencia y minimizacion del error\n",
    "\n",
    "# Del resultado de la capa intermedia dos y su gráfica se puede decir que hay momentos donde la variable x1 se centra en cero para cualquier valor de x2, y hay momentos donde la variable x2 se centra en cero para cualquier valor de x1. Esta ubicación en cero se debe a la activación Relu.\n",
    "\n",
    "# Esta efecto de centrar en cero tambien da como resultado que se generen rectas horizontales o verticales.\n",
    "\n",
    "# Los casos donde no se centra en cero ninguna de las variables provoca graficas de lineas rectas inclinadas\n",
    "\n",
    "# Tambien se obervaron casos donde la grafica resultante era un solo punto ya que tanto x1 como x2 estaban centradas en cero coma cero."
   ]
  },
  {
   "cell_type": "markdown",
   "metadata": {},
   "source": [
    "# Area de pruebas"
   ]
  },
  {
   "cell_type": "code",
   "execution_count": 198,
   "metadata": {},
   "outputs": [
    {
     "data": {
      "text/plain": [
       "array([ -1,  10,  -5, 100])"
      ]
     },
     "execution_count": 198,
     "metadata": {},
     "output_type": "execute_result"
    }
   ],
   "source": [
    "neg = np.array([-1,10,-5,100])\n",
    "neg"
   ]
  },
  {
   "cell_type": "code",
   "execution_count": 199,
   "metadata": {},
   "outputs": [
    {
     "data": {
      "text/plain": [
       "array([  0,  10,   0, 100])"
      ]
     },
     "execution_count": 199,
     "metadata": {},
     "output_type": "execute_result"
    }
   ],
   "source": [
    "relu(neg)"
   ]
  },
  {
   "cell_type": "code",
   "execution_count": 200,
   "metadata": {},
   "outputs": [
    {
     "data": {
      "text/plain": [
       "array([0., 1., 0., 1.])"
      ]
     },
     "execution_count": 200,
     "metadata": {},
     "output_type": "execute_result"
    }
   ],
   "source": [
    "relu_deri(neg)"
   ]
  },
  {
   "cell_type": "code",
   "execution_count": 43,
   "metadata": {},
   "outputs": [
    {
     "data": {
      "text/plain": [
       "array([[0.69648159, 0.79673319],\n",
       "       [1.09817758, 1.10043361],\n",
       "       [1.51207152, 1.27826136],\n",
       "       [1.91376751, 1.58196177]])"
      ]
     },
     "execution_count": 43,
     "metadata": {},
     "output_type": "execute_result"
    }
   ],
   "source": [
    "cero = np.matmul(features,w_1)\n",
    "cero"
   ]
  },
  {
   "cell_type": "code",
   "execution_count": 45,
   "metadata": {},
   "outputs": [
    {
     "data": {
      "text/plain": [
       "array([[0.63104658, 0.83758842],\n",
       "       [0.97874446, 1.29241068],\n",
       "       [1.32290423, 1.73654471],\n",
       "       [1.6706021 , 2.19136696]])"
      ]
     },
     "execution_count": 45,
     "metadata": {},
     "output_type": "execute_result"
    }
   ],
   "source": [
    "uno = np.matmul(cero,w_2)\n",
    "uno"
   ]
  },
  {
   "cell_type": "code",
   "execution_count": 48,
   "metadata": {},
   "outputs": [
    {
     "data": {
      "text/plain": [
       "array([[0.63756453],\n",
       "       [0.98596067],\n",
       "       [1.32818598],\n",
       "       [1.67658212]])"
      ]
     },
     "execution_count": 48,
     "metadata": {},
     "output_type": "execute_result"
    }
   ],
   "source": [
    "dos = np.matmul(uno,w_3)\n",
    "dos"
   ]
  },
  {
   "cell_type": "code",
   "execution_count": 96,
   "metadata": {},
   "outputs": [
    {
     "data": {
      "text/plain": [
       "array([[0, 1]])"
      ]
     },
     "execution_count": 96,
     "metadata": {},
     "output_type": "execute_result"
    }
   ],
   "source": [
    "cero_uno = np.array([[0,1]\n",
    "                    ])\n",
    "cero_uno"
   ]
  },
  {
   "cell_type": "code",
   "execution_count": 97,
   "metadata": {},
   "outputs": [
    {
     "data": {
      "text/plain": [
       "array([[0.        , 0.79673319],\n",
       "       [0.        , 1.10043361],\n",
       "       [0.        , 1.27826136],\n",
       "       [0.        , 1.58196177]])"
      ]
     },
     "execution_count": 97,
     "metadata": {},
     "output_type": "execute_result"
    }
   ],
   "source": [
    "cero * cero_uno"
   ]
  },
  {
   "cell_type": "code",
   "execution_count": 99,
   "metadata": {},
   "outputs": [
    {
     "data": {
      "text/plain": [
       "array([[0, 1]])"
      ]
     },
     "execution_count": 99,
     "metadata": {},
     "output_type": "execute_result"
    }
   ],
   "source": [
    "prueba_1 = np.array([[0],\n",
    "                     [1]\n",
    "                    ])\n",
    "prueba_1.T"
   ]
  },
  {
   "cell_type": "code",
   "execution_count": 118,
   "metadata": {},
   "outputs": [
    {
     "data": {
      "text/plain": [
       "array([[1, 1, 1, 1],\n",
       "       [2, 2, 2, 2]])"
      ]
     },
     "execution_count": 118,
     "metadata": {},
     "output_type": "execute_result"
    }
   ],
   "source": [
    "prueba_2 = np.array([[1,2],\n",
    "                     [1,2],\n",
    "                     [1,2],\n",
    "                     [1,2],\n",
    "                    ])\n",
    "prueba_2.T"
   ]
  },
  {
   "cell_type": "code",
   "execution_count": 150,
   "metadata": {},
   "outputs": [
    {
     "data": {
      "text/plain": [
       "array([[1, 2, 3],\n",
       "       [1, 2, 3],\n",
       "       [1, 2, 3],\n",
       "       [1, 2, 3]])"
      ]
     },
     "execution_count": 150,
     "metadata": {},
     "output_type": "execute_result"
    }
   ],
   "source": [
    "prueba_3 = np.array([[1,2,3],\n",
    "                     [1,2,3],\n",
    "                     [1,2,3],\n",
    "                     [1,2,3]])\n",
    "prueba_3"
   ]
  },
  {
   "cell_type": "code",
   "execution_count": 152,
   "metadata": {},
   "outputs": [
    {
     "data": {
      "text/plain": [
       "array([[0, 1],\n",
       "       [0, 1],\n",
       "       [0, 1],\n",
       "       [0, 1]])"
      ]
     },
     "execution_count": 152,
     "metadata": {},
     "output_type": "execute_result"
    }
   ],
   "source": [
    "prueba_4 = np.array([[0,1],\n",
    "                     [0,1],\n",
    "                     [0,1],\n",
    "                     [0,1]])\n",
    "prueba_4"
   ]
  },
  {
   "cell_type": "code",
   "execution_count": 153,
   "metadata": {},
   "outputs": [
    {
     "ename": "ValueError",
     "evalue": "operands could not be broadcast together with shapes (4,3) (4,2) ",
     "output_type": "error",
     "traceback": [
      "\u001b[1;31m---------------------------------------------------------------------------\u001b[0m",
      "\u001b[1;31mValueError\u001b[0m                                Traceback (most recent call last)",
      "\u001b[1;32m<ipython-input-153-93d13bde2b3e>\u001b[0m in \u001b[0;36m<module>\u001b[1;34m()\u001b[0m\n\u001b[1;32m----> 1\u001b[1;33m \u001b[0mprueba_3\u001b[0m\u001b[1;33m*\u001b[0m\u001b[0mprueba_4\u001b[0m\u001b[1;33m\u001b[0m\u001b[0m\n\u001b[0m",
      "\u001b[1;31mValueError\u001b[0m: operands could not be broadcast together with shapes (4,3) (4,2) "
     ]
    }
   ],
   "source": [
    "prueba_3*prueba_4"
   ]
  },
  {
   "cell_type": "code",
   "execution_count": 154,
   "metadata": {},
   "outputs": [
    {
     "data": {
      "text/plain": [
       "array([[0, 0],\n",
       "       [0, 1],\n",
       "       [1, 0],\n",
       "       [1, 1]])"
      ]
     },
     "execution_count": 154,
     "metadata": {},
     "output_type": "execute_result"
    }
   ],
   "source": [
    "features[:,0:2]"
   ]
  },
  {
   "cell_type": "code",
   "execution_count": null,
   "metadata": {},
   "outputs": [],
   "source": []
  },
  {
   "cell_type": "code",
   "execution_count": null,
   "metadata": {},
   "outputs": [],
   "source": []
  },
  {
   "cell_type": "markdown",
   "metadata": {},
   "source": [
    "https://machinelearningmastery.com/rectified-linear-activation-function-for-deep-learning-neural-networks/\n",
    "\n",
    "https://intellipaat.com/community/6716/how-to-implement-the-relu-function-in-numpy\n",
    "\n",
    "https://stackoverflow.com/questions/16869990/how-to-convert-from-boolean-array-to-int-array-in-python"
   ]
  },
  {
   "cell_type": "code",
   "execution_count": null,
   "metadata": {},
   "outputs": [],
   "source": []
  },
  {
   "cell_type": "code",
   "execution_count": null,
   "metadata": {},
   "outputs": [],
   "source": []
  }
 ],
 "metadata": {
  "kernelspec": {
   "display_name": "Python 3",
   "language": "python",
   "name": "python3"
  },
  "language_info": {
   "codemirror_mode": {
    "name": "ipython",
    "version": 3
   },
   "file_extension": ".py",
   "mimetype": "text/x-python",
   "name": "python",
   "nbconvert_exporter": "python",
   "pygments_lexer": "ipython3",
   "version": "3.6.5"
  }
 },
 "nbformat": 4,
 "nbformat_minor": 2
}
