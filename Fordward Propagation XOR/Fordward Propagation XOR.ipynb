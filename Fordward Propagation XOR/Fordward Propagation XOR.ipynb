{
 "cells": [
  {
   "cell_type": "markdown",
   "metadata": {},
   "source": [
    "# Johnatan Meoño"
   ]
  },
  {
   "cell_type": "code",
   "execution_count": 1,
   "metadata": {},
   "outputs": [],
   "source": [
    "import numpy as np"
   ]
  },
  {
   "cell_type": "code",
   "execution_count": 2,
   "metadata": {},
   "outputs": [],
   "source": [
    "import matplotlib.pyplot as plt"
   ]
  },
  {
   "cell_type": "code",
   "execution_count": 3,
   "metadata": {},
   "outputs": [],
   "source": [
    "%matplotlib inline"
   ]
  },
  {
   "cell_type": "markdown",
   "metadata": {},
   "source": [
    "# Fordward Propagation XOR"
   ]
  },
  {
   "cell_type": "code",
   "execution_count": 4,
   "metadata": {},
   "outputs": [],
   "source": [
    "def sigmoid(h):\n",
    "    return 1/(1+np.exp(-h))"
   ]
  },
  {
   "cell_type": "code",
   "execution_count": 5,
   "metadata": {},
   "outputs": [],
   "source": [
    "features = np.array([[1,1,1],\n",
    "                      [0,1,1],\n",
    "                      [0,0,1],\n",
    "                      [1,0,1]])"
   ]
  },
  {
   "cell_type": "code",
   "execution_count": 6,
   "metadata": {},
   "outputs": [],
   "source": [
    "def perceptron_nueronal(equis):\n",
    "    \n",
    "    #capa intemedia\n",
    "        #matriz de pesos\n",
    "    W_1 = np.array([[20,-20],\n",
    "                    [20,-20],\n",
    "                    [-10,30]])\n",
    "    \n",
    "        #multiplilcacion matricial \n",
    "    kpa_intermedia_1 = sigmoid(np.matmul(equis,W_1))\n",
    "    \n",
    "    #capa final\n",
    "        #matriz de pesos\n",
    "    W_2 = np.array([[20],\n",
    "                    [20],\n",
    "                    [-30]])\n",
    "    \n",
    "        #matriz de features\n",
    "    features_2 = np.hstack((kpa_intermedia_1,np.ones((4,1))))\n",
    "    \n",
    "            #multiplilcacion matricial \n",
    "    kpa_final = sigmoid(np.matmul(features_2,W_2))\n",
    "    \n",
    "    \n",
    "    #print(features_2)\n",
    "    return kpa_intermedia_1, kpa_final "
   ]
  },
  {
   "cell_type": "code",
   "execution_count": 7,
   "metadata": {},
   "outputs": [],
   "source": [
    "intermedia,final = perceptron_nueronal(features)"
   ]
  },
  {
   "cell_type": "code",
   "execution_count": 8,
   "metadata": {},
   "outputs": [
    {
     "name": "stdout",
     "output_type": "stream",
     "text": [
      "Capa Final:  [[4.54391049e-05]\n",
      " [9.99954520e-01]\n",
      " [4.54391049e-05]\n",
      " [9.99954520e-01]]\n"
     ]
    }
   ],
   "source": [
    "print(\"Capa Final: \", final)"
   ]
  },
  {
   "cell_type": "markdown",
   "metadata": {},
   "source": [
    "# Gráfica XOR"
   ]
  },
  {
   "cell_type": "code",
   "execution_count": 9,
   "metadata": {},
   "outputs": [],
   "source": [
    "features_0 = np.array([[1,1],\n",
    "                      [0,1],\n",
    "                      [0,0],\n",
    "                      [1,0]])"
   ]
  },
  {
   "cell_type": "code",
   "execution_count": 10,
   "metadata": {},
   "outputs": [
    {
     "data": {
      "text/plain": [
       "array([[1, 1],\n",
       "       [0, 1],\n",
       "       [0, 0],\n",
       "       [1, 0]])"
      ]
     },
     "execution_count": 10,
     "metadata": {},
     "output_type": "execute_result"
    }
   ],
   "source": [
    "features_0"
   ]
  },
  {
   "cell_type": "markdown",
   "metadata": {},
   "source": [
    "# Gráfica capa intermedia "
   ]
  },
  {
   "cell_type": "code",
   "execution_count": 11,
   "metadata": {},
   "outputs": [
    {
     "data": {
      "text/plain": [
       "array([[1.00000000e+00, 4.53978687e-05],\n",
       "       [9.99954602e-01, 9.99954602e-01],\n",
       "       [4.53978687e-05, 1.00000000e+00],\n",
       "       [9.99954602e-01, 9.99954602e-01]])"
      ]
     },
     "execution_count": 11,
     "metadata": {},
     "output_type": "execute_result"
    }
   ],
   "source": [
    "intermedia"
   ]
  },
  {
   "cell_type": "code",
   "execution_count": 12,
   "metadata": {},
   "outputs": [],
   "source": [
    "import itertools"
   ]
  },
  {
   "cell_type": "code",
   "execution_count": 15,
   "metadata": {},
   "outputs": [
    {
     "data": {
      "image/png": "[encoded data removed]",
      "text/plain": [
       "<Figure size 1440x720 with 2 Axes>"
      ]
     },
     "metadata": {},
     "output_type": "display_data"
    }
   ],
   "source": [
    "mark = itertools.cycle((\"D\",\"D\",\"X\",\"X\"))\n",
    "         \n",
    "fig  = plt.figure(figsize=(20,10))\n",
    "\n",
    "ax1 = fig.add_subplot(1,2,1)\n",
    "ax2 = fig.add_subplot(1,2,2)\n",
    "\n",
    "for q,p in features_0:\n",
    "    ax1.scatter(q,p, s = np.pi*1000,  marker = next(mark))\n",
    "    #ax1.scatter(features_0[:,0],features_0[:,1], s = np.pi*10, marker = mark)\n",
    "    #ax2.scatter(intermedia[:,0],intermedia[:,1], s = np.pi*10, marker = mark)\n",
    "    \n",
    "for q,p in intermedia:\n",
    "    ax2.scatter(q,p, s = np.pi*1000,  marker = next(mark))\n",
    "\n",
    "ax1.set_title(\"Scatter Plot Valores para XOR\")\n",
    "ax2.set_title(\"Capa Intermedia\")\n",
    "\n",
    "ax1.set_xlim([-.15, 1.2])\n",
    "ax1.set_ylim([-.15, 1.2])\n",
    "\n",
    "ax2.set_xlim([-.15, 1.2])\n",
    "ax2.set_ylim([-.15, 1.2])\n",
    "\n",
    "plt.show()"
   ]
  },
  {
   "cell_type": "markdown",
   "metadata": {},
   "source": [
    "# Conclusión\n",
    "\n",
    "### El resultado de la capa intermedia que incluye haber pasado por sigmoidal, nos muestra como dos obervaciones tienen las mismas coordenadas en (0.9,0.9) a diferencia, de la entrada original para XOR en la cual cada par ordenado tiene su posición expecifica sin que los puntos queden sobre puestos. En esa línea podemos decir que en la capa intermedia se juntan dos puntos que en el espacio original eran linealmente no separables, es por eso que en la capa intemedia sí son linealmente separables, esto permite aproximar bien la fución cosa que no se lograria en un model lineal unico."
   ]
  },
  {
   "cell_type": "markdown",
   "metadata": {},
   "source": [
    "https://stackoverflow.com/questions/13091649/unique-plot-marker-for-each-plot-in-matplotlib\n",
    "\n",
    "https://stackoverflow.com/questions/10291221/axis-limits-for-scatter-plot-not-holding-in-matplotlib"
   ]
  }
 ],
 "metadata": {
  "kernelspec": {
   "display_name": "Python 3",
   "language": "python",
   "name": "python3"
  },
  "language_info": {
   "codemirror_mode": {
    "name": "ipython",
    "version": 3
   },
   "file_extension": ".py",
   "mimetype": "text/x-python",
   "name": "python",
   "nbconvert_exporter": "python",
   "pygments_lexer": "ipython3",
   "version": "3.6.5"
  }
 },
 "nbformat": 4,
 "nbformat_minor": 2
}
