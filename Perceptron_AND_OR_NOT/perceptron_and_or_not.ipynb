{
 "cells": [
  {
   "cell_type": "markdown",
   "metadata": {},
   "source": [
    "# Johnatan Meoño"
   ]
  },
  {
   "cell_type": "code",
   "execution_count": 1,
   "metadata": {},
   "outputs": [],
   "source": [
    "import numpy as np"
   ]
  },
  {
   "cell_type": "code",
   "execution_count": 2,
   "metadata": {},
   "outputs": [],
   "source": [
    "def activation(value):\n",
    "    if value >= 0:\n",
    "        return 1\n",
    "    elif value < 0:\n",
    "        return 0"
   ]
  },
  {
   "cell_type": "code",
   "execution_count": 3,
   "metadata": {},
   "outputs": [
    {
     "data": {
      "text/plain": [
       "0"
      ]
     },
     "execution_count": 3,
     "metadata": {},
     "output_type": "execute_result"
    }
   ],
   "source": [
    "activation(-30)"
   ]
  },
  {
   "cell_type": "code",
   "execution_count": 4,
   "metadata": {},
   "outputs": [],
   "source": [
    "def neural_network(inputs, weights):\n",
    "    valor = np.matmul(inputs,weights)\n",
    "    return valor"
   ]
  },
  {
   "cell_type": "markdown",
   "metadata": {},
   "source": [
    "# AND"
   ]
  },
  {
   "cell_type": "code",
   "execution_count": 5,
   "metadata": {},
   "outputs": [],
   "source": [
    "bias1 = 1"
   ]
  },
  {
   "cell_type": "code",
   "execution_count": 6,
   "metadata": {},
   "outputs": [],
   "source": [
    "W1 = np.array([[30],[30],[-30.5]])"
   ]
  },
  {
   "cell_type": "code",
   "execution_count": 7,
   "metadata": {},
   "outputs": [
    {
     "data": {
      "text/plain": [
       "(3, 1)"
      ]
     },
     "execution_count": 7,
     "metadata": {},
     "output_type": "execute_result"
    }
   ],
   "source": [
    "W1.shape"
   ]
  },
  {
   "cell_type": "code",
   "execution_count": 9,
   "metadata": {},
   "outputs": [
    {
     "name": "stdout",
     "output_type": "stream",
     "text": [
      "1 AND 1 = 1\n"
     ]
    }
   ],
   "source": [
    "x11 = 1\n",
    "x21 = 1\n",
    "prediccion1 = activation(neural_network(np.array([x11,x21,bias1]),W1))\n",
    "print(str(x11) + \" AND \" + str(x21) + \" = \" + str(prediccion1))"
   ]
  },
  {
   "cell_type": "code",
   "execution_count": 11,
   "metadata": {},
   "outputs": [
    {
     "name": "stdout",
     "output_type": "stream",
     "text": [
      "0 AND 1 = 0\n"
     ]
    }
   ],
   "source": [
    "x12 = 0\n",
    "x22 = 1\n",
    "prediccion12 = activation(neural_network(np.array([x12,x22,bias1]),W1))\n",
    "print(str(x12) + \" AND \" + str(x22) + \" = \" + str(prediccion12))"
   ]
  },
  {
   "cell_type": "code",
   "execution_count": 12,
   "metadata": {},
   "outputs": [
    {
     "name": "stdout",
     "output_type": "stream",
     "text": [
      "0 AND 0 = 0\n"
     ]
    }
   ],
   "source": [
    "x13 = 0\n",
    "x23 = 0\n",
    "prediccion13 = activation(neural_network(np.array([x13,x23,bias1]),W1))\n",
    "print(str(x13) + \" AND \" + str(x23) + \" = \" + str(prediccion13))"
   ]
  },
  {
   "cell_type": "code",
   "execution_count": 14,
   "metadata": {},
   "outputs": [
    {
     "name": "stdout",
     "output_type": "stream",
     "text": [
      "1 AND 0 = 0\n"
     ]
    }
   ],
   "source": [
    "x14 = 1\n",
    "x24 = 0\n",
    "prediccion14 = activation(neural_network(np.array([x14,x24,bias1]),W1))\n",
    "print(str(x14) + \" AND \" + str(x24) + \" = \" + str(prediccion14))"
   ]
  },
  {
   "cell_type": "markdown",
   "metadata": {},
   "source": [
    "# OR"
   ]
  },
  {
   "cell_type": "code",
   "execution_count": 15,
   "metadata": {},
   "outputs": [],
   "source": [
    "W2 = np.array([[30],[30],[-30]])"
   ]
  },
  {
   "cell_type": "code",
   "execution_count": 16,
   "metadata": {},
   "outputs": [
    {
     "name": "stdout",
     "output_type": "stream",
     "text": [
      "1 OR 1 = 1\n"
     ]
    }
   ],
   "source": [
    "x15 = 1\n",
    "x25 = 1\n",
    "prediccion15 = activation(neural_network(np.array([x15,x25,bias1]),W2))\n",
    "print(str(x15) + \" OR \" + str(x25) + \" = \" + str(prediccion15))"
   ]
  },
  {
   "cell_type": "code",
   "execution_count": 17,
   "metadata": {},
   "outputs": [
    {
     "name": "stdout",
     "output_type": "stream",
     "text": [
      "0 OR 1 = 1\n"
     ]
    }
   ],
   "source": [
    "x16 = 0\n",
    "x26 = 1\n",
    "prediccion16 = activation(neural_network(np.array([x16,x26,bias1]),W2))\n",
    "print(str(x16) + \" OR \" + str(x26) + \" = \" + str(prediccion16))"
   ]
  },
  {
   "cell_type": "code",
   "execution_count": 19,
   "metadata": {},
   "outputs": [
    {
     "name": "stdout",
     "output_type": "stream",
     "text": [
      "0 OR 0 = 0\n"
     ]
    }
   ],
   "source": [
    "x17 = 0\n",
    "x27 = 0\n",
    "prediccion17 = activation(neural_network(np.array([x17,x27,bias1]),W2))\n",
    "print(str(x17) + \" OR \" + str(x27) + \" = \" + str(prediccion17))"
   ]
  },
  {
   "cell_type": "code",
   "execution_count": 20,
   "metadata": {},
   "outputs": [
    {
     "name": "stdout",
     "output_type": "stream",
     "text": [
      "1 OR 0 = 1\n"
     ]
    }
   ],
   "source": [
    "x18 = 1\n",
    "x28 = 0\n",
    "prediccion18 = activation(neural_network(np.array([x18,x28,bias1]),W2))\n",
    "print(str(x18) + \" OR \" + str(x28) + \" = \" + str(prediccion18))"
   ]
  },
  {
   "cell_type": "markdown",
   "metadata": {},
   "source": [
    "# NOT"
   ]
  },
  {
   "cell_type": "code",
   "execution_count": 21,
   "metadata": {},
   "outputs": [],
   "source": [
    "W3 = np.array([[-30],[0.0],[15]])"
   ]
  },
  {
   "cell_type": "code",
   "execution_count": 22,
   "metadata": {},
   "outputs": [
    {
     "name": "stdout",
     "output_type": "stream",
     "text": [
      "1 NOT  = 0\n"
     ]
    }
   ],
   "source": [
    "x19 = 1\n",
    "x29 = 1\n",
    "prediccion19 = activation(neural_network(np.array([x19,x29,bias1]),W3))\n",
    "print(str(x19) + \" NOT \" + str() + \" = \" + str(prediccion19))"
   ]
  },
  {
   "cell_type": "code",
   "execution_count": 24,
   "metadata": {},
   "outputs": [
    {
     "name": "stdout",
     "output_type": "stream",
     "text": [
      "0 NOT  = 1\n"
     ]
    }
   ],
   "source": [
    "x110 = 0\n",
    "x210 = 1\n",
    "prediccion110 = activation(neural_network(np.array([x110,x210,bias1]),W3))\n",
    "print(str(x110) + \" NOT \" + str() + \" = \" + str(prediccion110))"
   ]
  },
  {
   "cell_type": "code",
   "execution_count": 25,
   "metadata": {},
   "outputs": [
    {
     "name": "stdout",
     "output_type": "stream",
     "text": [
      "0 NOT  = 1\n"
     ]
    }
   ],
   "source": [
    "x111 = 0\n",
    "x211 = 0\n",
    "prediccion111 = activation(neural_network(np.array([x111,x211,bias1]),W3))\n",
    "print(str(x111) + \" NOT \" + str() + \" = \" + str(prediccion111))"
   ]
  },
  {
   "cell_type": "code",
   "execution_count": 26,
   "metadata": {},
   "outputs": [
    {
     "name": "stdout",
     "output_type": "stream",
     "text": [
      "1 NOT  = 0\n"
     ]
    }
   ],
   "source": [
    "x112 = 1\n",
    "x212 = 0\n",
    "prediccion112 = activation(neural_network(np.array([x112,x212,bias1]),W3))\n",
    "print(str(x112) + \" NOT \" + str() + \" = \" + str(prediccion112))"
   ]
  },
  {
   "cell_type": "markdown",
   "metadata": {},
   "source": [
    "# XOR como composicion"
   ]
  },
  {
   "cell_type": "code",
   "execution_count": 43,
   "metadata": {},
   "outputs": [],
   "source": [
    "def neural_network_compuesta(inputs):\n",
    "    andd = activation(np.matmul(inputs,np.array([[30],[30],[-30.5]])))\n",
    "    \n",
    "    nott = activation(np.matmul(np.array([andd,1,1]),np.array([[-30],[0.0],[15]])))\n",
    "    #np.array([andd,1,1])\n",
    "    \n",
    "    orr = activation(np.matmul(inputs,np.array([[30],[30],[-30]])))\n",
    "    \n",
    "    andd = activation(np.matmul(np.array([nott,orr,1]),np.array([[30],[30],[-30.5]])))\n",
    "    \n",
    "    return andd"
   ]
  },
  {
   "cell_type": "code",
   "execution_count": 44,
   "metadata": {},
   "outputs": [
    {
     "name": "stdout",
     "output_type": "stream",
     "text": [
      "1 XOR 1 = 0\n"
     ]
    }
   ],
   "source": [
    "x113 = 1\n",
    "x213 = 1\n",
    "prediccion13 = neural_network_compuesta(np.array([x113,x213,bias1]))\n",
    "print(str(x113) + \" XOR \" + str(x213) + \" = \" + str(prediccion13))"
   ]
  },
  {
   "cell_type": "code",
   "execution_count": 45,
   "metadata": {},
   "outputs": [
    {
     "name": "stdout",
     "output_type": "stream",
     "text": [
      "0 XOR 1 = 1\n"
     ]
    }
   ],
   "source": [
    "x114 = 0\n",
    "x214 = 1\n",
    "prediccion14 = neural_network_compuesta(np.array([x114,x214,bias1]))\n",
    "print(str(x114) + \" XOR \" + str(x214) + \" = \" + str(prediccion14))"
   ]
  },
  {
   "cell_type": "code",
   "execution_count": 46,
   "metadata": {},
   "outputs": [
    {
     "name": "stdout",
     "output_type": "stream",
     "text": [
      "0 XOR 0 = 0\n"
     ]
    }
   ],
   "source": [
    "x115 = 0\n",
    "x215 = 0\n",
    "prediccion15 = neural_network_compuesta(np.array([x115,x215,bias1]))\n",
    "print(str(x115) + \" XOR \" + str(x215) + \" = \" + str(prediccion15))"
   ]
  },
  {
   "cell_type": "code",
   "execution_count": 47,
   "metadata": {},
   "outputs": [
    {
     "name": "stdout",
     "output_type": "stream",
     "text": [
      "1 XOR 0 = 1\n"
     ]
    }
   ],
   "source": [
    "x116 = 1\n",
    "x216 = 0\n",
    "prediccion16 = neural_network_compuesta(np.array([x116,x216,bias1]))\n",
    "print(str(x116) + \" XOR \" + str(x216) + \" = \" + str(prediccion16))"
   ]
  },
  {
   "cell_type": "markdown",
   "metadata": {},
   "source": [
    "# Pruebas"
   ]
  },
  {
   "cell_type": "code",
   "execution_count": 91,
   "metadata": {},
   "outputs": [],
   "source": [
    "prediccion1 = activation(neural_network(np.array([x1,x2,bias]),W))"
   ]
  },
  {
   "cell_type": "code",
   "execution_count": 92,
   "metadata": {},
   "outputs": [
    {
     "data": {
      "text/plain": [
       "'0'"
      ]
     },
     "execution_count": 92,
     "metadata": {},
     "output_type": "execute_result"
    }
   ],
   "source": [
    "str(prediccion1)"
   ]
  },
  {
   "cell_type": "code",
   "execution_count": 62,
   "metadata": {},
   "outputs": [
    {
     "name": "stdout",
     "output_type": "stream",
     "text": [
      "0\n"
     ]
    }
   ],
   "source": [
    "activation(neural_network(np.array([x1,x2,bias]),W))"
   ]
  },
  {
   "cell_type": "code",
   "execution_count": 38,
   "metadata": {},
   "outputs": [],
   "source": [
    "hola  = np.array([x1,x2,bias])"
   ]
  },
  {
   "cell_type": "code",
   "execution_count": 40,
   "metadata": {},
   "outputs": [
    {
     "data": {
      "text/plain": [
       "(3,)"
      ]
     },
     "execution_count": 40,
     "metadata": {},
     "output_type": "execute_result"
    }
   ],
   "source": [
    "hola.shape"
   ]
  },
  {
   "cell_type": "code",
   "execution_count": 41,
   "metadata": {},
   "outputs": [
    {
     "data": {
      "text/plain": [
       "array([-30])"
      ]
     },
     "execution_count": 41,
     "metadata": {},
     "output_type": "execute_result"
    }
   ],
   "source": [
    "np.matmul(hola,W)"
   ]
  },
  {
   "cell_type": "markdown",
   "metadata": {},
   "source": [
    "https://medium.com/@stanleydukor/neural-representation-of-and-or-not-xor-and-xnor-logic-gates-perceptron-algorithm-b0275375fea1"
   ]
  }
 ],
 "metadata": {
  "kernelspec": {
   "display_name": "Python 3",
   "language": "python",
   "name": "python3"
  },
  "language_info": {
   "codemirror_mode": {
    "name": "ipython",
    "version": 3
   },
   "file_extension": ".py",
   "mimetype": "text/x-python",
   "name": "python",
   "nbconvert_exporter": "python",
   "pygments_lexer": "ipython3",
   "version": "3.6.5"
  }
 },
 "nbformat": 4,
 "nbformat_minor": 2
}
