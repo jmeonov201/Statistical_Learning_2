{
 "cells": [
  {
   "cell_type": "markdown",
   "metadata": {},
   "source": [
    "# Johnatan Meoño"
   ]
  },
  {
   "cell_type": "code",
   "execution_count": 1,
   "metadata": {},
   "outputs": [],
   "source": [
    "from sklearn.preprocessing import PolynomialFeatures"
   ]
  },
  {
   "cell_type": "code",
   "execution_count": 2,
   "metadata": {},
   "outputs": [],
   "source": [
    "import numpy as np"
   ]
  },
  {
   "cell_type": "code",
   "execution_count": 3,
   "metadata": {},
   "outputs": [],
   "source": [
    "import pandas as pd"
   ]
  },
  {
   "cell_type": "markdown",
   "metadata": {},
   "source": [
    "# Una variable "
   ]
  },
  {
   "cell_type": "code",
   "execution_count": 4,
   "metadata": {},
   "outputs": [
    {
     "data": {
      "text/plain": [
       "array([[0.11742726],\n",
       "       [0.97124859],\n",
       "       [0.63327312],\n",
       "       [0.50810265],\n",
       "       [0.75619945]])"
      ]
     },
     "execution_count": 4,
     "metadata": {},
     "output_type": "execute_result"
    }
   ],
   "source": [
    "x1 = np.random.rand(5,1)\n",
    "x1"
   ]
  },
  {
   "cell_type": "code",
   "execution_count": 5,
   "metadata": {},
   "outputs": [
    {
     "data": {
      "text/html": [
       "<div>\n",
       "<style scoped>\n",
       "    .dataframe tbody tr th:only-of-type {\n",
       "        vertical-align: middle;\n",
       "    }\n",
       "\n",
       "    .dataframe tbody tr th {\n",
       "        vertical-align: top;\n",
       "    }\n",
       "\n",
       "    .dataframe thead th {\n",
       "        text-align: right;\n",
       "    }\n",
       "</style>\n",
       "<table border=\"1\" class=\"dataframe\">\n",
       "  <thead>\n",
       "    <tr style=\"text-align: right;\">\n",
       "      <th></th>\n",
       "      <th>0</th>\n",
       "      <th>1</th>\n",
       "      <th>2</th>\n",
       "      <th>3</th>\n",
       "    </tr>\n",
       "  </thead>\n",
       "  <tbody>\n",
       "    <tr>\n",
       "      <th>0</th>\n",
       "      <td>1.0</td>\n",
       "      <td>0.117427</td>\n",
       "      <td>0.013789</td>\n",
       "      <td>0.001619</td>\n",
       "    </tr>\n",
       "    <tr>\n",
       "      <th>1</th>\n",
       "      <td>1.0</td>\n",
       "      <td>0.971249</td>\n",
       "      <td>0.943324</td>\n",
       "      <td>0.916202</td>\n",
       "    </tr>\n",
       "    <tr>\n",
       "      <th>2</th>\n",
       "      <td>1.0</td>\n",
       "      <td>0.633273</td>\n",
       "      <td>0.401035</td>\n",
       "      <td>0.253965</td>\n",
       "    </tr>\n",
       "    <tr>\n",
       "      <th>3</th>\n",
       "      <td>1.0</td>\n",
       "      <td>0.508103</td>\n",
       "      <td>0.258168</td>\n",
       "      <td>0.131176</td>\n",
       "    </tr>\n",
       "    <tr>\n",
       "      <th>4</th>\n",
       "      <td>1.0</td>\n",
       "      <td>0.756199</td>\n",
       "      <td>0.571838</td>\n",
       "      <td>0.432423</td>\n",
       "    </tr>\n",
       "  </tbody>\n",
       "</table>\n",
       "</div>"
      ],
      "text/plain": [
       "     0         1         2         3\n",
       "0  1.0  0.117427  0.013789  0.001619\n",
       "1  1.0  0.971249  0.943324  0.916202\n",
       "2  1.0  0.633273  0.401035  0.253965\n",
       "3  1.0  0.508103  0.258168  0.131176\n",
       "4  1.0  0.756199  0.571838  0.432423"
      ]
     },
     "execution_count": 5,
     "metadata": {},
     "output_type": "execute_result"
    }
   ],
   "source": [
    "poly1 = PolynomialFeatures(3)\n",
    "pd.DataFrame(poly1.fit_transform(x1))"
   ]
  },
  {
   "cell_type": "markdown",
   "metadata": {},
   "source": [
    "# Dos variables"
   ]
  },
  {
   "cell_type": "code",
   "execution_count": 6,
   "metadata": {},
   "outputs": [
    {
     "data": {
      "text/plain": [
       "array([[0.65262835, 0.86004552],\n",
       "       [0.65718927, 0.18059617],\n",
       "       [0.60104082, 0.51306622],\n",
       "       [0.27942709, 0.74971068],\n",
       "       [0.01397174, 0.88872061]])"
      ]
     },
     "execution_count": 6,
     "metadata": {},
     "output_type": "execute_result"
    }
   ],
   "source": [
    "x2 = np.random.rand(5,2)\n",
    "x2"
   ]
  },
  {
   "cell_type": "code",
   "execution_count": 7,
   "metadata": {},
   "outputs": [
    {
     "data": {
      "text/html": [
       "<div>\n",
       "<style scoped>\n",
       "    .dataframe tbody tr th:only-of-type {\n",
       "        vertical-align: middle;\n",
       "    }\n",
       "\n",
       "    .dataframe tbody tr th {\n",
       "        vertical-align: top;\n",
       "    }\n",
       "\n",
       "    .dataframe thead th {\n",
       "        text-align: right;\n",
       "    }\n",
       "</style>\n",
       "<table border=\"1\" class=\"dataframe\">\n",
       "  <thead>\n",
       "    <tr style=\"text-align: right;\">\n",
       "      <th></th>\n",
       "      <th>0</th>\n",
       "      <th>1</th>\n",
       "      <th>2</th>\n",
       "      <th>3</th>\n",
       "      <th>4</th>\n",
       "      <th>5</th>\n",
       "      <th>6</th>\n",
       "      <th>7</th>\n",
       "      <th>8</th>\n",
       "      <th>9</th>\n",
       "    </tr>\n",
       "  </thead>\n",
       "  <tbody>\n",
       "    <tr>\n",
       "      <th>0</th>\n",
       "      <td>1.0</td>\n",
       "      <td>0.652628</td>\n",
       "      <td>0.860046</td>\n",
       "      <td>0.425924</td>\n",
       "      <td>0.561290</td>\n",
       "      <td>0.739678</td>\n",
       "      <td>0.277970</td>\n",
       "      <td>0.366314</td>\n",
       "      <td>0.482735</td>\n",
       "      <td>0.636157</td>\n",
       "    </tr>\n",
       "    <tr>\n",
       "      <th>1</th>\n",
       "      <td>1.0</td>\n",
       "      <td>0.657189</td>\n",
       "      <td>0.180596</td>\n",
       "      <td>0.431898</td>\n",
       "      <td>0.118686</td>\n",
       "      <td>0.032615</td>\n",
       "      <td>0.283839</td>\n",
       "      <td>0.077999</td>\n",
       "      <td>0.021434</td>\n",
       "      <td>0.005890</td>\n",
       "    </tr>\n",
       "    <tr>\n",
       "      <th>2</th>\n",
       "      <td>1.0</td>\n",
       "      <td>0.601041</td>\n",
       "      <td>0.513066</td>\n",
       "      <td>0.361250</td>\n",
       "      <td>0.308374</td>\n",
       "      <td>0.263237</td>\n",
       "      <td>0.217126</td>\n",
       "      <td>0.185345</td>\n",
       "      <td>0.158216</td>\n",
       "      <td>0.135058</td>\n",
       "    </tr>\n",
       "    <tr>\n",
       "      <th>3</th>\n",
       "      <td>1.0</td>\n",
       "      <td>0.279427</td>\n",
       "      <td>0.749711</td>\n",
       "      <td>0.078079</td>\n",
       "      <td>0.209489</td>\n",
       "      <td>0.562066</td>\n",
       "      <td>0.021818</td>\n",
       "      <td>0.058537</td>\n",
       "      <td>0.157056</td>\n",
       "      <td>0.421387</td>\n",
       "    </tr>\n",
       "    <tr>\n",
       "      <th>4</th>\n",
       "      <td>1.0</td>\n",
       "      <td>0.013972</td>\n",
       "      <td>0.888721</td>\n",
       "      <td>0.000195</td>\n",
       "      <td>0.012417</td>\n",
       "      <td>0.789824</td>\n",
       "      <td>0.000003</td>\n",
       "      <td>0.000173</td>\n",
       "      <td>0.011035</td>\n",
       "      <td>0.701933</td>\n",
       "    </tr>\n",
       "  </tbody>\n",
       "</table>\n",
       "</div>"
      ],
      "text/plain": [
       "     0         1         2         3         4         5         6         7  \\\n",
       "0  1.0  0.652628  0.860046  0.425924  0.561290  0.739678  0.277970  0.366314   \n",
       "1  1.0  0.657189  0.180596  0.431898  0.118686  0.032615  0.283839  0.077999   \n",
       "2  1.0  0.601041  0.513066  0.361250  0.308374  0.263237  0.217126  0.185345   \n",
       "3  1.0  0.279427  0.749711  0.078079  0.209489  0.562066  0.021818  0.058537   \n",
       "4  1.0  0.013972  0.888721  0.000195  0.012417  0.789824  0.000003  0.000173   \n",
       "\n",
       "          8         9  \n",
       "0  0.482735  0.636157  \n",
       "1  0.021434  0.005890  \n",
       "2  0.158216  0.135058  \n",
       "3  0.157056  0.421387  \n",
       "4  0.011035  0.701933  "
      ]
     },
     "execution_count": 7,
     "metadata": {},
     "output_type": "execute_result"
    }
   ],
   "source": [
    "poly2 = PolynomialFeatures(3)\n",
    "pd.DataFrame(poly2.fit_transform(x2))"
   ]
  },
  {
   "cell_type": "markdown",
   "metadata": {},
   "source": [
    "# Tres variables"
   ]
  },
  {
   "cell_type": "code",
   "execution_count": 8,
   "metadata": {},
   "outputs": [
    {
     "data": {
      "text/plain": [
       "array([[0.85103776, 0.68077173, 0.13038352],\n",
       "       [0.21578885, 0.04541435, 0.40321869],\n",
       "       [0.27357724, 0.90951906, 0.42619025],\n",
       "       [0.43418068, 0.75538188, 0.25699589],\n",
       "       [0.80402888, 0.80340734, 0.0589459 ]])"
      ]
     },
     "execution_count": 8,
     "metadata": {},
     "output_type": "execute_result"
    }
   ],
   "source": [
    "x3 = np.random.rand(5,3)\n",
    "x3"
   ]
  },
  {
   "cell_type": "code",
   "execution_count": 9,
   "metadata": {},
   "outputs": [
    {
     "data": {
      "text/html": [
       "<div>\n",
       "<style scoped>\n",
       "    .dataframe tbody tr th:only-of-type {\n",
       "        vertical-align: middle;\n",
       "    }\n",
       "\n",
       "    .dataframe tbody tr th {\n",
       "        vertical-align: top;\n",
       "    }\n",
       "\n",
       "    .dataframe thead th {\n",
       "        text-align: right;\n",
       "    }\n",
       "</style>\n",
       "<table border=\"1\" class=\"dataframe\">\n",
       "  <thead>\n",
       "    <tr style=\"text-align: right;\">\n",
       "      <th></th>\n",
       "      <th>0</th>\n",
       "      <th>1</th>\n",
       "      <th>2</th>\n",
       "      <th>3</th>\n",
       "      <th>4</th>\n",
       "      <th>5</th>\n",
       "      <th>6</th>\n",
       "      <th>7</th>\n",
       "      <th>8</th>\n",
       "      <th>9</th>\n",
       "      <th>10</th>\n",
       "      <th>11</th>\n",
       "      <th>12</th>\n",
       "      <th>13</th>\n",
       "      <th>14</th>\n",
       "      <th>15</th>\n",
       "      <th>16</th>\n",
       "      <th>17</th>\n",
       "      <th>18</th>\n",
       "      <th>19</th>\n",
       "    </tr>\n",
       "  </thead>\n",
       "  <tbody>\n",
       "    <tr>\n",
       "      <th>0</th>\n",
       "      <td>1.0</td>\n",
       "      <td>0.851038</td>\n",
       "      <td>0.680772</td>\n",
       "      <td>0.130384</td>\n",
       "      <td>0.724265</td>\n",
       "      <td>0.579362</td>\n",
       "      <td>0.110961</td>\n",
       "      <td>0.463450</td>\n",
       "      <td>0.088761</td>\n",
       "      <td>0.017000</td>\n",
       "      <td>0.616377</td>\n",
       "      <td>0.493059</td>\n",
       "      <td>0.094432</td>\n",
       "      <td>0.394414</td>\n",
       "      <td>0.075539</td>\n",
       "      <td>0.014468</td>\n",
       "      <td>0.315504</td>\n",
       "      <td>0.060426</td>\n",
       "      <td>0.011573</td>\n",
       "      <td>0.002217</td>\n",
       "    </tr>\n",
       "    <tr>\n",
       "      <th>1</th>\n",
       "      <td>1.0</td>\n",
       "      <td>0.215789</td>\n",
       "      <td>0.045414</td>\n",
       "      <td>0.403219</td>\n",
       "      <td>0.046565</td>\n",
       "      <td>0.009800</td>\n",
       "      <td>0.087010</td>\n",
       "      <td>0.002062</td>\n",
       "      <td>0.018312</td>\n",
       "      <td>0.162585</td>\n",
       "      <td>0.010048</td>\n",
       "      <td>0.002115</td>\n",
       "      <td>0.018776</td>\n",
       "      <td>0.000445</td>\n",
       "      <td>0.003952</td>\n",
       "      <td>0.035084</td>\n",
       "      <td>0.000094</td>\n",
       "      <td>0.000832</td>\n",
       "      <td>0.007384</td>\n",
       "      <td>0.065557</td>\n",
       "    </tr>\n",
       "    <tr>\n",
       "      <th>2</th>\n",
       "      <td>1.0</td>\n",
       "      <td>0.273577</td>\n",
       "      <td>0.909519</td>\n",
       "      <td>0.426190</td>\n",
       "      <td>0.074845</td>\n",
       "      <td>0.248824</td>\n",
       "      <td>0.116596</td>\n",
       "      <td>0.827225</td>\n",
       "      <td>0.387628</td>\n",
       "      <td>0.181638</td>\n",
       "      <td>0.020476</td>\n",
       "      <td>0.068073</td>\n",
       "      <td>0.031898</td>\n",
       "      <td>0.226310</td>\n",
       "      <td>0.106046</td>\n",
       "      <td>0.049692</td>\n",
       "      <td>0.752377</td>\n",
       "      <td>0.352555</td>\n",
       "      <td>0.165203</td>\n",
       "      <td>0.077412</td>\n",
       "    </tr>\n",
       "    <tr>\n",
       "      <th>3</th>\n",
       "      <td>1.0</td>\n",
       "      <td>0.434181</td>\n",
       "      <td>0.755382</td>\n",
       "      <td>0.256996</td>\n",
       "      <td>0.188513</td>\n",
       "      <td>0.327972</td>\n",
       "      <td>0.111583</td>\n",
       "      <td>0.570602</td>\n",
       "      <td>0.194130</td>\n",
       "      <td>0.066047</td>\n",
       "      <td>0.081849</td>\n",
       "      <td>0.142399</td>\n",
       "      <td>0.048447</td>\n",
       "      <td>0.247744</td>\n",
       "      <td>0.084288</td>\n",
       "      <td>0.028676</td>\n",
       "      <td>0.431022</td>\n",
       "      <td>0.146642</td>\n",
       "      <td>0.049891</td>\n",
       "      <td>0.016974</td>\n",
       "    </tr>\n",
       "    <tr>\n",
       "      <th>4</th>\n",
       "      <td>1.0</td>\n",
       "      <td>0.804029</td>\n",
       "      <td>0.803407</td>\n",
       "      <td>0.058946</td>\n",
       "      <td>0.646462</td>\n",
       "      <td>0.645963</td>\n",
       "      <td>0.047394</td>\n",
       "      <td>0.645463</td>\n",
       "      <td>0.047358</td>\n",
       "      <td>0.003475</td>\n",
       "      <td>0.519774</td>\n",
       "      <td>0.519373</td>\n",
       "      <td>0.038106</td>\n",
       "      <td>0.518971</td>\n",
       "      <td>0.038077</td>\n",
       "      <td>0.002794</td>\n",
       "      <td>0.518570</td>\n",
       "      <td>0.038047</td>\n",
       "      <td>0.002792</td>\n",
       "      <td>0.000205</td>\n",
       "    </tr>\n",
       "  </tbody>\n",
       "</table>\n",
       "</div>"
      ],
      "text/plain": [
       "    0         1         2         3         4         5         6         7   \\\n",
       "0  1.0  0.851038  0.680772  0.130384  0.724265  0.579362  0.110961  0.463450   \n",
       "1  1.0  0.215789  0.045414  0.403219  0.046565  0.009800  0.087010  0.002062   \n",
       "2  1.0  0.273577  0.909519  0.426190  0.074845  0.248824  0.116596  0.827225   \n",
       "3  1.0  0.434181  0.755382  0.256996  0.188513  0.327972  0.111583  0.570602   \n",
       "4  1.0  0.804029  0.803407  0.058946  0.646462  0.645963  0.047394  0.645463   \n",
       "\n",
       "         8         9         10        11        12        13        14  \\\n",
       "0  0.088761  0.017000  0.616377  0.493059  0.094432  0.394414  0.075539   \n",
       "1  0.018312  0.162585  0.010048  0.002115  0.018776  0.000445  0.003952   \n",
       "2  0.387628  0.181638  0.020476  0.068073  0.031898  0.226310  0.106046   \n",
       "3  0.194130  0.066047  0.081849  0.142399  0.048447  0.247744  0.084288   \n",
       "4  0.047358  0.003475  0.519774  0.519373  0.038106  0.518971  0.038077   \n",
       "\n",
       "         15        16        17        18        19  \n",
       "0  0.014468  0.315504  0.060426  0.011573  0.002217  \n",
       "1  0.035084  0.000094  0.000832  0.007384  0.065557  \n",
       "2  0.049692  0.752377  0.352555  0.165203  0.077412  \n",
       "3  0.028676  0.431022  0.146642  0.049891  0.016974  \n",
       "4  0.002794  0.518570  0.038047  0.002792  0.000205  "
      ]
     },
     "execution_count": 9,
     "metadata": {},
     "output_type": "execute_result"
    }
   ],
   "source": [
    "poly3 = PolynomialFeatures(3)\n",
    "pd.DataFrame(poly3.fit_transform(x3))"
   ]
  },
  {
   "cell_type": "markdown",
   "metadata": {},
   "source": [
    "# Conclusión"
   ]
  },
  {
   "cell_type": "markdown",
   "metadata": {},
   "source": [
    "### Entre más features poseamos antes de generar un polinomio, mas features tendremos luego de generar un nuevo polinomio. Como es sabido la maldición de la dimensionalidad significa que el número de objetos en el conjunto de datos a los que se necesita acceder crece exponencialmente con la dimensionalidad subyacente."
   ]
  },
  {
   "cell_type": "code",
   "execution_count": 10,
   "metadata": {},
   "outputs": [
    {
     "name": "stdout",
     "output_type": "stream",
     "text": [
      "Combinando 1 variable: 4\n",
      "Combinando 2 variables: 10\n",
      "Combinando 2 variables: 20\n"
     ]
    }
   ],
   "source": [
    "print('Combinando 1 variable:',np.shape(pd.DataFrame(poly1.fit_transform(x1)))[1])\n",
    "print('Combinando 2 variables:',np.shape(pd.DataFrame(poly2.fit_transform(x2)))[1])\n",
    "print('Combinando 2 variables:',np.shape(pd.DataFrame(poly3.fit_transform(x3)))[1])"
   ]
  }
 ],
 "metadata": {
  "kernelspec": {
   "display_name": "Python 3",
   "language": "python",
   "name": "python3"
  },
  "language_info": {
   "codemirror_mode": {
    "name": "ipython",
    "version": 3
   },
   "file_extension": ".py",
   "mimetype": "text/x-python",
   "name": "python",
   "nbconvert_exporter": "python",
   "pygments_lexer": "ipython3",
   "version": "3.6.5"
  }
 },
 "nbformat": 4,
 "nbformat_minor": 2
}
